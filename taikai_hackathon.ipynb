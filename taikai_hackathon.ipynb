{
  "nbformat": 4,
  "nbformat_minor": 0,
  "metadata": {
    "colab": {
      "name": "taikai_hackathon.ipynb",
      "provenance": [],
      "collapsed_sections": [],
      "authorship_tag": "ABX9TyPTEvp2OPIFoOUAoOXLlJel",
      "include_colab_link": true
    },
    "kernelspec": {
      "display_name": "Python 3",
      "name": "python3"
    },
    "language_info": {
      "name": "python"
    }
  },
  "cells": [
    {
      "cell_type": "markdown",
      "metadata": {
        "id": "view-in-github",
        "colab_type": "text"
      },
      "source": [
        "<a href=\"https://colab.research.google.com/github/cydal/Weather-App/blob/main/taikai_hackathon.ipynb\" target=\"_parent\"><img src=\"https://colab.research.google.com/assets/colab-badge.svg\" alt=\"Open In Colab\"/></a>"
      ]
    },
    {
      "cell_type": "code",
      "metadata": {
        "id": "jkwWIuBh--QY"
      },
      "source": [
        "import requests\n",
        "import pandas as pd\n",
        "import urllib.parse"
      ],
      "execution_count": 8,
      "outputs": []
    },
    {
      "cell_type": "code",
      "metadata": {
        "id": "KpCujTDgIoyx"
      },
      "source": [
        "dataset = \"era5_volumetric_soil_water_layer_1-hourly\"\n",
        "dataset = \"era5_land_precip-hourly\"\n",
        "dataset = \"cpcc_temp_max-daily\"\n",
        "#dataset = \"era5_wind_100m_u-hourly\"\n",
        "lat, lon = 5.68999972, -0.20985164"
      ],
      "execution_count": 112,
      "outputs": []
    },
    {
      "cell_type": "code",
      "metadata": {
        "id": "svpIGH3yIo1P"
      },
      "source": [
        "query = f\"https://api.dclimate.net/apiv2/grid-history/{dataset}/{lat}_{lon}?also_return_metadata=false&use_imperial_units=true&also_return_snapped_coordinates=true&convert_to_local_time=true\"\n",
        "response = requests.get(query)"
      ],
      "execution_count": 41,
      "outputs": []
    },
    {
      "cell_type": "code",
      "metadata": {
        "id": "R-A8BkSJcSk-"
      },
      "source": [
        "def get_data(dataset, lat, lon):\n",
        "  query = f\"https://api.dclimate.net/apiv2/grid-history/{dataset}/{lat}_{lon}?also_return_metadata=false&use_imperial_units=true&also_return_snapped_coordinates=true&convert_to_local_time=true\"\n",
        "  response = requests.get(query)\n",
        "\n",
        "  print(response.status_code)\n",
        "  if response.status_code != 200:\n",
        "    return(\"Error: Check location & dataset\")\n",
        "\n",
        "  data = response.json()\n",
        "  first = list(data['data'].keys())[0]\n",
        "  last = list(data['data'].keys())[-1]\n",
        "\n",
        "  key, value = [], []\n",
        "  for k in data['data']:\n",
        "    key.append(k)\n",
        "    # remove text \n",
        "    if data['data'][k]:\n",
        "      value.append(data['data'][k].split(\" \")[0])\n",
        "    else:\n",
        "      value.append(data['data'][k])\n",
        "\n",
        "  df = pd.DataFrame({\n",
        "                    \"date_time\": key,\n",
        "                    \"value\": value\n",
        "  })\n",
        "  df[\"date_time\"] = pd.to_datetime(df[\"date_time\"])\n",
        "\n",
        "\n",
        "  return(df)"
      ],
      "execution_count": 113,
      "outputs": []
    },
    {
      "cell_type": "code",
      "metadata": {
        "colab": {
          "base_uri": "https://localhost:8080/"
        },
        "id": "nXADjzeUdxer",
        "outputId": "b6610ada-6311-44b4-8bd5-6ba4e2f7ba28"
      },
      "source": [
        "temp = get_data(dataset, lat, lon)"
      ],
      "execution_count": 114,
      "outputs": [
        {
          "output_type": "stream",
          "text": [
            "200\n"
          ],
          "name": "stdout"
        }
      ]
    },
    {
      "cell_type": "code",
      "metadata": {
        "id": "uYtGjiXxv-x5"
      },
      "source": [
        "temp"
      ],
      "execution_count": null,
      "outputs": []
    },
    {
      "cell_type": "code",
      "metadata": {
        "id": "EZYW4gXMhPMH"
      },
      "source": [
        "temp[\"value\"] # precip - '0.0002637795275590551 inch', temp_min - '67.676 deg_F', wind_v - '10.580708661417324 mi / h'"
      ],
      "execution_count": null,
      "outputs": []
    },
    {
      "cell_type": "code",
      "metadata": {
        "colab": {
          "base_uri": "https://localhost:8080/"
        },
        "id": "lmCcTsdqD-gj",
        "outputId": "e5bf50bb-d531-49e8-c785-0ddc1049c03e"
      },
      "source": [
        "pd.to_datetime(\"2021-07-28 18:00:00\").hour"
      ],
      "execution_count": 7,
      "outputs": [
        {
          "output_type": "execute_result",
          "data": {
            "text/plain": [
              "18"
            ]
          },
          "metadata": {
            "tags": []
          },
          "execution_count": 7
        }
      ]
    },
    {
      "cell_type": "code",
      "metadata": {
        "colab": {
          "base_uri": "https://localhost:8080/"
        },
        "id": "BUqsGR9pTWw6",
        "outputId": "193c9940-3ec8-4fb6-9265-ccc8fdb7b921"
      },
      "source": [
        "address = 'Accra, Ghana'\n",
        "url = 'https://nominatim.openstreetmap.org/search/' + urllib.parse.quote(address) +'?format=json'\n",
        "\n",
        "response = requests.get(url).json()\n",
        "print(response[0][\"lat\"])\n",
        "print(response[0][\"lon\"])"
      ],
      "execution_count": 10,
      "outputs": [
        {
          "output_type": "stream",
          "text": [
            "5.5571096\n",
            "-0.2012376\n"
          ],
          "name": "stdout"
        }
      ]
    },
    {
      "cell_type": "code",
      "metadata": {
        "id": "aFv_j7lwTjl3"
      },
      "source": [
        "lat, lon = response[0][\"lat\"], response[0][\"lon\"]"
      ],
      "execution_count": 14,
      "outputs": []
    },
    {
      "cell_type": "code",
      "metadata": {
        "id": "sSNmqhy9XSsQ"
      },
      "source": [
        "Uyo, NG: January 18, 2021\n",
        "Pressure: 1000.7 mb\n",
        "Temperature: 29.5 C - cpcc_temp_min-daily & cpcc_temp_max-daily\n",
        "Humidity: 77%\n",
        "Condition: Cloudy\n",
        "Wind: WSW at 5 m/s - era5_wind_100m_u-hourly & era5_wind_100m_v-hourly\n",
        "Chance of rain: 80% - era5_land_precip-hourly"
      ],
      "execution_count": null,
      "outputs": []
    },
    {
      "cell_type": "code",
      "metadata": {
        "id": "FpQG9cVKbWXW"
      },
      "source": [
        "def calc_wind(u, v):\n",
        "  ws = np.sqrt(u**2 + v*82)\n",
        "  wd = np.mod(180+ np.rad2deg(np.arctan2(u, v)), 360)\n",
        "  return([ws, wd])"
      ],
      "execution_count": null,
      "outputs": []
    },
    {
      "cell_type": "code",
      "metadata": {
        "id": "87xSBzt5XVm6"
      },
      "source": [
        "datasets = [\"era5_wind_100m_u-hourly\", \"era5_wind_100m_v-hourly\", \"era5_land_precip-hourly\", \n",
        "            \"era5_volumetric_soil_water_layer_1-hourly\", \"cpcc_temp_min-daily\", \"cpcc_temp_max-daily\"]"
      ],
      "execution_count": 52,
      "outputs": []
    },
    {
      "cell_type": "code",
      "metadata": {
        "colab": {
          "base_uri": "https://localhost:8080/"
        },
        "id": "zx6uYV1Jmrj4",
        "outputId": "c089cf63-8c9b-4348-a811-b8c811ea20b6"
      },
      "source": [
        "all_data = []\n",
        "for dataset in datasets:\n",
        "  all_data.append(get_data(dataset, lat, lon))\n",
        "\n",
        "\n",
        "def get_all_data(datasets, , lat, lon):\n",
        "  all_data = []\n",
        "\n",
        "  for dataset in datasets:\n",
        "    all_data.append(get_data(dataset, lat, lon))\n",
        "  return(all_data)"
      ],
      "execution_count": 69,
      "outputs": [
        {
          "output_type": "stream",
          "text": [
            "200\n",
            "200\n",
            "200\n",
            "200\n",
            "200\n",
            "200\n"
          ],
          "name": "stdout"
        }
      ]
    },
    {
      "cell_type": "code",
      "metadata": {
        "colab": {
          "base_uri": "https://localhost:8080/"
        },
        "id": "kn5_PJ3WqrlP",
        "outputId": "6ed855dc-1278-4f70-813c-d0eb285b3a38"
      },
      "source": [
        "all_data[0].info()"
      ],
      "execution_count": 71,
      "outputs": [
        {
          "output_type": "stream",
          "text": [
            "<class 'pandas.core.frame.DataFrame'>\n",
            "RangeIndex: 373078 entries, 0 to 373077\n",
            "Data columns (total 2 columns):\n",
            " #   Column     Non-Null Count   Dtype \n",
            "---  ------     --------------   ----- \n",
            " 0   date_time  373078 non-null  object\n",
            " 1   value      373078 non-null  object\n",
            "dtypes: object(2)\n",
            "memory usage: 5.7+ MB\n"
          ],
          "name": "stdout"
        }
      ]
    },
    {
      "cell_type": "code",
      "metadata": {
        "colab": {
          "base_uri": "https://localhost:8080/",
          "height": 419
        },
        "id": "YlJWr_ZIqrnq",
        "outputId": "9a80f60c-c9b5-4831-b3e3-bbcac0c86bf9"
      },
      "source": [
        "temp"
      ],
      "execution_count": 94,
      "outputs": [
        {
          "output_type": "execute_result",
          "data": {
            "text/html": [
              "<div>\n",
              "<style scoped>\n",
              "    .dataframe tbody tr th:only-of-type {\n",
              "        vertical-align: middle;\n",
              "    }\n",
              "\n",
              "    .dataframe tbody tr th {\n",
              "        vertical-align: top;\n",
              "    }\n",
              "\n",
              "    .dataframe thead th {\n",
              "        text-align: right;\n",
              "    }\n",
              "</style>\n",
              "<table border=\"1\" class=\"dataframe\">\n",
              "  <thead>\n",
              "    <tr style=\"text-align: right;\">\n",
              "      <th></th>\n",
              "      <th>date_time</th>\n",
              "      <th>value</th>\n",
              "    </tr>\n",
              "  </thead>\n",
              "  <tbody>\n",
              "    <tr>\n",
              "      <th>0</th>\n",
              "      <td>1979-01-01 00:00:00+00:00</td>\n",
              "      <td>5.771295633500358</td>\n",
              "    </tr>\n",
              "    <tr>\n",
              "      <th>1</th>\n",
              "      <td>1979-01-01 01:00:00+00:00</td>\n",
              "      <td>6.598962061560488</td>\n",
              "    </tr>\n",
              "    <tr>\n",
              "      <th>2</th>\n",
              "      <td>1979-01-01 02:00:00+00:00</td>\n",
              "      <td>6.710808876163208</td>\n",
              "    </tr>\n",
              "    <tr>\n",
              "      <th>3</th>\n",
              "      <td>1979-01-01 03:00:00+00:00</td>\n",
              "      <td>6.710808876163208</td>\n",
              "    </tr>\n",
              "    <tr>\n",
              "      <th>4</th>\n",
              "      <td>1979-01-01 04:00:00+00:00</td>\n",
              "      <td>6.598962061560488</td>\n",
              "    </tr>\n",
              "    <tr>\n",
              "      <th>...</th>\n",
              "      <td>...</td>\n",
              "      <td>...</td>\n",
              "    </tr>\n",
              "    <tr>\n",
              "      <th>373073</th>\n",
              "      <td>2021-07-23 17:00:00+00:00</td>\n",
              "      <td>5.435755189692198</td>\n",
              "    </tr>\n",
              "    <tr>\n",
              "      <th>373074</th>\n",
              "      <td>2021-07-23 18:00:00+00:00</td>\n",
              "      <td>5.144953471725126</td>\n",
              "    </tr>\n",
              "    <tr>\n",
              "      <th>373075</th>\n",
              "      <td>2021-07-23 19:00:00+00:00</td>\n",
              "      <td>5.1002147458840374</td>\n",
              "    </tr>\n",
              "    <tr>\n",
              "      <th>373076</th>\n",
              "      <td>2021-07-23 20:00:00+00:00</td>\n",
              "      <td>5.793664996420902</td>\n",
              "    </tr>\n",
              "    <tr>\n",
              "      <th>373077</th>\n",
              "      <td>2021-07-23 21:00:00+00:00</td>\n",
              "      <td>6.66607015032212</td>\n",
              "    </tr>\n",
              "  </tbody>\n",
              "</table>\n",
              "<p>373078 rows × 2 columns</p>\n",
              "</div>"
            ],
            "text/plain": [
              "                       date_time               value\n",
              "0      1979-01-01 00:00:00+00:00   5.771295633500358\n",
              "1      1979-01-01 01:00:00+00:00   6.598962061560488\n",
              "2      1979-01-01 02:00:00+00:00   6.710808876163208\n",
              "3      1979-01-01 03:00:00+00:00   6.710808876163208\n",
              "4      1979-01-01 04:00:00+00:00   6.598962061560488\n",
              "...                          ...                 ...\n",
              "373073 2021-07-23 17:00:00+00:00   5.435755189692198\n",
              "373074 2021-07-23 18:00:00+00:00   5.144953471725126\n",
              "373075 2021-07-23 19:00:00+00:00  5.1002147458840374\n",
              "373076 2021-07-23 20:00:00+00:00   5.793664996420902\n",
              "373077 2021-07-23 21:00:00+00:00    6.66607015032212\n",
              "\n",
              "[373078 rows x 2 columns]"
            ]
          },
          "metadata": {
            "tags": []
          },
          "execution_count": 94
        }
      ]
    },
    {
      "cell_type": "code",
      "metadata": {
        "id": "kw0HfOTrBfjh"
      },
      "source": [
        "new_temp = temp.copy()"
      ],
      "execution_count": 133,
      "outputs": []
    },
    {
      "cell_type": "code",
      "metadata": {
        "colab": {
          "base_uri": "https://localhost:8080/",
          "height": 450
        },
        "id": "z4Mfrj6-BjLl",
        "outputId": "868a8af5-f40a-44d2-fd9b-67fc62c8ab7b"
      },
      "source": [
        "new_temp.set_index(\"date_time\")"
      ],
      "execution_count": 135,
      "outputs": [
        {
          "output_type": "execute_result",
          "data": {
            "text/html": [
              "<div>\n",
              "<style scoped>\n",
              "    .dataframe tbody tr th:only-of-type {\n",
              "        vertical-align: middle;\n",
              "    }\n",
              "\n",
              "    .dataframe tbody tr th {\n",
              "        vertical-align: top;\n",
              "    }\n",
              "\n",
              "    .dataframe thead th {\n",
              "        text-align: right;\n",
              "    }\n",
              "</style>\n",
              "<table border=\"1\" class=\"dataframe\">\n",
              "  <thead>\n",
              "    <tr style=\"text-align: right;\">\n",
              "      <th></th>\n",
              "      <th>value</th>\n",
              "    </tr>\n",
              "    <tr>\n",
              "      <th>date_time</th>\n",
              "      <th></th>\n",
              "    </tr>\n",
              "  </thead>\n",
              "  <tbody>\n",
              "    <tr>\n",
              "      <th>1979-01-01</th>\n",
              "      <td>89.474</td>\n",
              "    </tr>\n",
              "    <tr>\n",
              "      <th>1979-01-02</th>\n",
              "      <td>89.97800000000001</td>\n",
              "    </tr>\n",
              "    <tr>\n",
              "      <th>1979-01-03</th>\n",
              "      <td>87.872</td>\n",
              "    </tr>\n",
              "    <tr>\n",
              "      <th>1979-01-04</th>\n",
              "      <td>85.19</td>\n",
              "    </tr>\n",
              "    <tr>\n",
              "      <th>1979-01-05</th>\n",
              "      <td>83.22800000000001</td>\n",
              "    </tr>\n",
              "    <tr>\n",
              "      <th>...</th>\n",
              "      <td>...</td>\n",
              "    </tr>\n",
              "    <tr>\n",
              "      <th>2021-07-22</th>\n",
              "      <td>84.77600000000001</td>\n",
              "    </tr>\n",
              "    <tr>\n",
              "      <th>2021-07-23</th>\n",
              "      <td>86.756</td>\n",
              "    </tr>\n",
              "    <tr>\n",
              "      <th>2021-07-24</th>\n",
              "      <td>86.95400000000001</td>\n",
              "    </tr>\n",
              "    <tr>\n",
              "      <th>2021-07-25</th>\n",
              "      <td>86.18</td>\n",
              "    </tr>\n",
              "    <tr>\n",
              "      <th>2021-07-26</th>\n",
              "      <td>84.70400000000001</td>\n",
              "    </tr>\n",
              "  </tbody>\n",
              "</table>\n",
              "<p>15548 rows × 1 columns</p>\n",
              "</div>"
            ],
            "text/plain": [
              "                        value\n",
              "date_time                    \n",
              "1979-01-01             89.474\n",
              "1979-01-02  89.97800000000001\n",
              "1979-01-03             87.872\n",
              "1979-01-04              85.19\n",
              "1979-01-05  83.22800000000001\n",
              "...                       ...\n",
              "2021-07-22  84.77600000000001\n",
              "2021-07-23             86.756\n",
              "2021-07-24  86.95400000000001\n",
              "2021-07-25              86.18\n",
              "2021-07-26  84.70400000000001\n",
              "\n",
              "[15548 rows x 1 columns]"
            ]
          },
          "metadata": {
            "tags": []
          },
          "execution_count": 135
        }
      ]
    },
    {
      "cell_type": "code",
      "metadata": {
        "id": "zav4qBkwBszY"
      },
      "source": [
        "st.line_chart(new_temp[-14])"
      ],
      "execution_count": null,
      "outputs": []
    },
    {
      "cell_type": "code",
      "metadata": {
        "colab": {
          "base_uri": "https://localhost:8080/"
        },
        "id": "NL67dfIZycOY",
        "outputId": "59c5f0cd-5a9f-4230-dbe4-9ade90613fd4"
      },
      "source": [
        "pd.to_datetime(\"2021-07-28 21:23:00\").replace(second=0, microsecond=0, minute=0) #+timedelta(hours=t.minute//30)"
      ],
      "execution_count": 99,
      "outputs": [
        {
          "output_type": "execute_result",
          "data": {
            "text/plain": [
              "Timestamp('2021-07-28 21:00:00')"
            ]
          },
          "metadata": {
            "tags": []
          },
          "execution_count": 99
        }
      ]
    },
    {
      "cell_type": "code",
      "metadata": {
        "id": "7MxtzvFAzIvA"
      },
      "source": [
        "query = \"2021-07-10 21:23:00\""
      ],
      "execution_count": 126,
      "outputs": []
    },
    {
      "cell_type": "code",
      "metadata": {
        "colab": {
          "base_uri": "https://localhost:8080/"
        },
        "id": "OupZ4yiWzO9v",
        "outputId": "f6795952-68a0-43a5-e5ff-76b9e51e781b"
      },
      "source": [
        "temp[\"value\"][temp[\"date_time\"] == pd.to_datetime(query).replace(second=0, microsecond=0, minute=0, hour=0)] # .dt.tz_convert(None)"
      ],
      "execution_count": 132,
      "outputs": [
        {
          "output_type": "execute_result",
          "data": {
            "text/plain": [
              "15531    85.154\n",
              "Name: value, dtype: object"
            ]
          },
          "metadata": {
            "tags": []
          },
          "execution_count": 132
        }
      ]
    },
    {
      "cell_type": "code",
      "metadata": {
        "id": "ii2fktK5091F"
      },
      "source": [
        "temp[\"value\"][temp[\"date_time\"]]"
      ],
      "execution_count": null,
      "outputs": []
    },
    {
      "cell_type": "code",
      "metadata": {
        "colab": {
          "base_uri": "https://localhost:8080/"
        },
        "id": "-Qan467V0Hgh",
        "outputId": "e5bbc49e-f580-4dfb-e2c3-523bbc3523a1"
      },
      "source": [
        "temp.info()"
      ],
      "execution_count": 130,
      "outputs": [
        {
          "output_type": "stream",
          "text": [
            "<class 'pandas.core.frame.DataFrame'>\n",
            "RangeIndex: 15548 entries, 0 to 15547\n",
            "Data columns (total 2 columns):\n",
            " #   Column     Non-Null Count  Dtype         \n",
            "---  ------     --------------  -----         \n",
            " 0   date_time  15548 non-null  datetime64[ns]\n",
            " 1   value      15524 non-null  object        \n",
            "dtypes: datetime64[ns](1), object(1)\n",
            "memory usage: 243.1+ KB\n"
          ],
          "name": "stdout"
        }
      ]
    },
    {
      "cell_type": "markdown",
      "metadata": {
        "id": "MQ2wK6Z9CtZV"
      },
      "source": [
        "Rain: Precipitation in the form of liquid water drops that have diameters greater than 0.5 millimeter; if less than 0.5 millimeter, it is drizzle. Rain and drizzle are the only forms of liquid precipitation. Rain is classified as light, meaning rain falling at a rate between a trace and 0.10 inch per hour; moderate, 0.11 to 0.30 inch per hour; heavy, more than 0.30 inch per hour. Drizzle is classified as light, falling at a rate from a trace to 0.01 inch per hour; moderate, 0.01 to 0.02 inch per hour; heavy, greater than 0.02 inch per hour."
      ]
    }
  ]
}