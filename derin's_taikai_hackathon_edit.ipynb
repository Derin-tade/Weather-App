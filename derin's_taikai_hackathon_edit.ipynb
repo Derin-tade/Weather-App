{
  "nbformat": 4,
  "nbformat_minor": 0,
  "metadata": {
    "colab": {
      "name": "derin's_taikai_hackathon_edit.ipynb",
      "provenance": [],
      "collapsed_sections": [],
      "include_colab_link": true
    },
    "kernelspec": {
      "display_name": "Python 3",
      "name": "python3"
    },
    "language_info": {
      "name": "python"
    }
  },
  "cells": [
    {
      "cell_type": "markdown",
      "metadata": {
        "id": "view-in-github",
        "colab_type": "text"
      },
      "source": [
        "<a href=\"https://colab.research.google.com/github/cydal/Weather-App/blob/main/derin's_taikai_hackathon_edit.ipynb\" target=\"_parent\"><img src=\"https://colab.research.google.com/assets/colab-badge.svg\" alt=\"Open In Colab\"/></a>"
      ]
    },
    {
      "cell_type": "code",
      "metadata": {
        "id": "jkwWIuBh--QY"
      },
      "source": [
        "import requests\n",
        "import pandas as pd\n",
        "import urllib.parse\n",
        "from functools import reduce\n",
        "import numpy as np"
      ],
      "execution_count": 70,
      "outputs": []
    },
    {
      "cell_type": "code",
      "metadata": {
        "id": "KpCujTDgIoyx"
      },
      "source": [
        "dataset = \"era5_volumetric_soil_water_layer_1-hourly\"\n",
        "dataset = \"era5_land_precip-hourly\"\n",
        "dataset = \"cpcc_temp_max-daily\"\n",
        "#dataset = \"era5_wind_100m_u-hourly\"\n",
        "lat, lon = 5.68999972, -0.20985164"
      ],
      "execution_count": 6,
      "outputs": []
    },
    {
      "cell_type": "code",
      "metadata": {
        "id": "svpIGH3yIo1P"
      },
      "source": [
        "query = f\"https://api.dclimate.net/apiv2/grid-history/{dataset}/{lat}_{lon}?also_return_metadata=false&use_imperial_units=true&also_return_snapped_coordinates=true&convert_to_local_time=true\"\n",
        "response = requests.get(query)"
      ],
      "execution_count": 7,
      "outputs": []
    },
    {
      "cell_type": "code",
      "metadata": {
        "id": "R-A8BkSJcSk-"
      },
      "source": [
        "def get_data(dataset, lat, lon):\n",
        "  query = f\"https://api.dclimate.net/apiv2/grid-history/{dataset}/{lat}_{lon}?also_return_metadata=false&use_imperial_units=true&also_return_snapped_coordinates=true&convert_to_local_time=true\"\n",
        "  response = requests.get(query)\n",
        "\n",
        "  print(response.status_code)\n",
        "  if response.status_code != 200:\n",
        "    return(\"Error: Check location & dataset\")\n",
        "\n",
        "  data = response.json()\n",
        "  first = list(data['data'].keys())[0]\n",
        "  last = list(data['data'].keys())[-1]\n",
        "\n",
        "  key, value = [], []\n",
        "  for k in data['data']:\n",
        "    key.append(k)\n",
        "    # remove text \n",
        "    if data['data'][k]:\n",
        "      value.append(data['data'][k].split(\" \")[0])\n",
        "    else:\n",
        "      value.append(data['data'][k])\n",
        "\n",
        "  df = pd.DataFrame({\n",
        "                    \"date_time\": key,\n",
        "                    f\"{dataset}\": value\n",
        "  })\n",
        "  df[\"date_time\"] = pd.to_datetime(df[\"date_time\"])\n",
        "\n",
        "\n",
        "  return(df)"
      ],
      "execution_count": 31,
      "outputs": []
    },
    {
      "cell_type": "code",
      "metadata": {
        "colab": {
          "base_uri": "https://localhost:8080/"
        },
        "id": "nXADjzeUdxer",
        "outputId": "a1ba0009-260d-4ab0-ec7a-0e6f3820acd6"
      },
      "source": [
        "temp = get_data(dataset, lat, lon)"
      ],
      "execution_count": 32,
      "outputs": [
        {
          "output_type": "stream",
          "text": [
            "200\n"
          ],
          "name": "stdout"
        }
      ]
    },
    {
      "cell_type": "code",
      "metadata": {
        "colab": {
          "base_uri": "https://localhost:8080/"
        },
        "id": "lmCcTsdqD-gj",
        "outputId": "1f4bb093-03b9-4201-ec3d-c6394c6c4bfa"
      },
      "source": [
        "pd.to_datetime(\"2021-07-28 18:00:00\").hour"
      ],
      "execution_count": 33,
      "outputs": [
        {
          "output_type": "execute_result",
          "data": {
            "text/plain": [
              "18"
            ]
          },
          "metadata": {
            "tags": []
          },
          "execution_count": 33
        }
      ]
    },
    {
      "cell_type": "code",
      "metadata": {
        "colab": {
          "base_uri": "https://localhost:8080/"
        },
        "id": "BUqsGR9pTWw6",
        "outputId": "d5a85651-33f7-415c-ef3a-22839b7c0282"
      },
      "source": [
        "address = 'Accra, Ghana'\n",
        "url = 'https://nominatim.openstreetmap.org/search/' + urllib.parse.quote(address) +'?format=json'\n",
        "\n",
        "response = requests.get(url).json()\n",
        "print(response[0][\"lat\"])\n",
        "print(response[0][\"lon\"])"
      ],
      "execution_count": 34,
      "outputs": [
        {
          "output_type": "stream",
          "text": [
            "5.5571096\n",
            "-0.2012376\n"
          ],
          "name": "stdout"
        }
      ]
    },
    {
      "cell_type": "code",
      "metadata": {
        "id": "aFv_j7lwTjl3"
      },
      "source": [
        "lat, lon = response[0][\"lat\"], response[0][\"lon\"]"
      ],
      "execution_count": 35,
      "outputs": []
    },
    {
      "cell_type": "code",
      "metadata": {
        "id": "FpQG9cVKbWXW"
      },
      "source": [
        "def calc_wind(u, v):\n",
        "  ws = np.sqrt(u**2 + v*82)\n",
        "  wd = np.mod(180+ np.rad2deg(np.arctan2(u, v)), 360)\n",
        "  return([ws, wd])"
      ],
      "execution_count": 36,
      "outputs": []
    },
    {
      "cell_type": "code",
      "metadata": {
        "colab": {
          "base_uri": "https://localhost:8080/",
          "height": 35
        },
        "id": "VNGq3i-3TnIb",
        "outputId": "9c930077-bcd6-4709-e83d-1845b66dd987"
      },
      "source": [
        "all_data[4]"
      ],
      "execution_count": 54,
      "outputs": [
        {
          "output_type": "execute_result",
          "data": {
            "application/vnd.google.colaboratory.intrinsic+json": {
              "type": "string"
            },
            "text/plain": [
              "'Error: Check location & dataset'"
            ]
          },
          "metadata": {
            "tags": []
          },
          "execution_count": 54
        }
      ]
    },
    {
      "cell_type": "code",
      "metadata": {
        "id": "ffvQAN0JZ24w"
      },
      "source": [
        "df['wind_speed'] = df.apply (lambda x: calc_wind(row), axis=1)"
      ],
      "execution_count": null,
      "outputs": []
    },
    {
      "cell_type": "code",
      "metadata": {
        "id": "87xSBzt5XVm6"
      },
      "source": [
        "datasets = [\"era5_wind_100m_u-hourly\", \"era5_wind_100m_v-hourly\", \"era5_land_precip-hourly\", \n",
        "            \"era5_volumetric_soil_water_layer_1-hourly\",\"era5_land_2m_temp-hourly\", \n",
        "            \"cpcc_temp_min-daily\", \"cpcc_temp_max-daily\"]"
      ],
      "execution_count": 55,
      "outputs": []
    },
    {
      "cell_type": "code",
      "metadata": {
        "colab": {
          "base_uri": "https://localhost:8080/"
        },
        "id": "zx6uYV1Jmrj4",
        "outputId": "d0b02191-f6e4-42cf-e5a3-5bb6329bcd04"
      },
      "source": [
        "all_data = []\n",
        "for dataset in datasets:\n",
        "  all_data.append(get_data(dataset, lat, lon))\n",
        "\n",
        "\n",
        "def get_all_data(datasets, lat, lon):\n",
        "  all_data = []\n",
        "\n",
        "  for dataset in datasets:\n",
        "    all_data.append(get_data(dataset, lat, lon))\n",
        "  return(all_data)"
      ],
      "execution_count": 56,
      "outputs": [
        {
          "output_type": "stream",
          "text": [
            "200\n",
            "200\n",
            "200\n",
            "200\n",
            "200\n",
            "200\n",
            "200\n"
          ],
          "name": "stdout"
        }
      ]
    },
    {
      "cell_type": "code",
      "metadata": {
        "id": "hsL3CeQ0LZgb"
      },
      "source": [
        "df_merged_hourly = reduce(lambda  left,right: pd.merge(left,right,on=['date_time'],\n",
        "                                            how='outer'), all_data[0:5]).fillna(0)\n",
        "df_merged_temp_daily = reduce(lambda  left,right: pd.merge(left,right,on=['date_time'],\n",
        "                                            how='outer'), all_data[-2:]).fillna(0)"
      ],
      "execution_count": 57,
      "outputs": []
    },
    {
      "cell_type": "code",
      "metadata": {
        "colab": {
          "base_uri": "https://localhost:8080/",
          "height": 230
        },
        "id": "Qv6ONYf9NUt_",
        "outputId": "aedc6fd4-3241-45b0-f239-454c11ebabb2"
      },
      "source": [
        "df_merged_hourly.tail(3)"
      ],
      "execution_count": 58,
      "outputs": [
        {
          "output_type": "execute_result",
          "data": {
            "text/html": [
              "<div>\n",
              "<style scoped>\n",
              "    .dataframe tbody tr th:only-of-type {\n",
              "        vertical-align: middle;\n",
              "    }\n",
              "\n",
              "    .dataframe tbody tr th {\n",
              "        vertical-align: top;\n",
              "    }\n",
              "\n",
              "    .dataframe thead th {\n",
              "        text-align: right;\n",
              "    }\n",
              "</style>\n",
              "<table border=\"1\" class=\"dataframe\">\n",
              "  <thead>\n",
              "    <tr style=\"text-align: right;\">\n",
              "      <th></th>\n",
              "      <th>date_time</th>\n",
              "      <th>era5_wind_100m_u-hourly</th>\n",
              "      <th>era5_wind_100m_v-hourly</th>\n",
              "      <th>era5_land_precip-hourly</th>\n",
              "      <th>era5_volumetric_soil_water_layer_1-hourly</th>\n",
              "      <th>era5_land_2m_temp-hourly</th>\n",
              "    </tr>\n",
              "  </thead>\n",
              "  <tbody>\n",
              "    <tr>\n",
              "      <th>373099</th>\n",
              "      <td>2021-07-24 19:00:00+00:00</td>\n",
              "      <td>7.202934860415176</td>\n",
              "      <td>13.600572655690767</td>\n",
              "      <td>0</td>\n",
              "      <td>0.0296</td>\n",
              "      <td>0</td>\n",
              "    </tr>\n",
              "    <tr>\n",
              "      <th>373100</th>\n",
              "      <td>2021-07-24 20:00:00+00:00</td>\n",
              "      <td>7.426628489620616</td>\n",
              "      <td>12.057086614173228</td>\n",
              "      <td>0</td>\n",
              "      <td>0.0296</td>\n",
              "      <td>0</td>\n",
              "    </tr>\n",
              "    <tr>\n",
              "      <th>373101</th>\n",
              "      <td>2021-07-24 21:00:00+00:00</td>\n",
              "      <td>7.806907659269865</td>\n",
              "      <td>10.312276306370796</td>\n",
              "      <td>0</td>\n",
              "      <td>0.0296</td>\n",
              "      <td>0</td>\n",
              "    </tr>\n",
              "  </tbody>\n",
              "</table>\n",
              "</div>"
            ],
            "text/plain": [
              "                       date_time  ... era5_land_2m_temp-hourly\n",
              "373099 2021-07-24 19:00:00+00:00  ...                        0\n",
              "373100 2021-07-24 20:00:00+00:00  ...                        0\n",
              "373101 2021-07-24 21:00:00+00:00  ...                        0\n",
              "\n",
              "[3 rows x 6 columns]"
            ]
          },
          "metadata": {
            "tags": []
          },
          "execution_count": 58
        }
      ]
    },
    {
      "cell_type": "code",
      "metadata": {
        "colab": {
          "base_uri": "https://localhost:8080/",
          "height": 142
        },
        "id": "knmO00O_NZbd",
        "outputId": "1c89e259-5638-4fe2-c09a-36174edca47b"
      },
      "source": [
        "df_merged_temp_daily.tail(3)"
      ],
      "execution_count": 59,
      "outputs": [
        {
          "output_type": "execute_result",
          "data": {
            "text/html": [
              "<div>\n",
              "<style scoped>\n",
              "    .dataframe tbody tr th:only-of-type {\n",
              "        vertical-align: middle;\n",
              "    }\n",
              "\n",
              "    .dataframe tbody tr th {\n",
              "        vertical-align: top;\n",
              "    }\n",
              "\n",
              "    .dataframe thead th {\n",
              "        text-align: right;\n",
              "    }\n",
              "</style>\n",
              "<table border=\"1\" class=\"dataframe\">\n",
              "  <thead>\n",
              "    <tr style=\"text-align: right;\">\n",
              "      <th></th>\n",
              "      <th>date_time</th>\n",
              "      <th>cpcc_temp_min-daily</th>\n",
              "      <th>cpcc_temp_max-daily</th>\n",
              "    </tr>\n",
              "  </thead>\n",
              "  <tbody>\n",
              "    <tr>\n",
              "      <th>15546</th>\n",
              "      <td>2021-07-25</td>\n",
              "      <td>73.922</td>\n",
              "      <td>86.18</td>\n",
              "    </tr>\n",
              "    <tr>\n",
              "      <th>15547</th>\n",
              "      <td>2021-07-26</td>\n",
              "      <td>73.004</td>\n",
              "      <td>84.70400000000001</td>\n",
              "    </tr>\n",
              "    <tr>\n",
              "      <th>15548</th>\n",
              "      <td>2021-07-27</td>\n",
              "      <td>74.426</td>\n",
              "      <td>80.348</td>\n",
              "    </tr>\n",
              "  </tbody>\n",
              "</table>\n",
              "</div>"
            ],
            "text/plain": [
              "       date_time cpcc_temp_min-daily cpcc_temp_max-daily\n",
              "15546 2021-07-25              73.922               86.18\n",
              "15547 2021-07-26              73.004   84.70400000000001\n",
              "15548 2021-07-27              74.426              80.348"
            ]
          },
          "metadata": {
            "tags": []
          },
          "execution_count": 59
        }
      ]
    },
    {
      "cell_type": "code",
      "metadata": {
        "id": "2Rq8N5z0MG8r"
      },
      "source": [
        "query = \"2021-07-24 19:00:00+00:00\"\n",
        "query2 = query.split(\" \")[0]"
      ],
      "execution_count": 61,
      "outputs": []
    },
    {
      "cell_type": "code",
      "metadata": {
        "colab": {
          "base_uri": "https://localhost:8080/"
        },
        "id": "x0p4mZAkMQlA",
        "outputId": "783a8803-1a48-42f6-c3f0-b58e0637029c"
      },
      "source": [
        "if (df_merged_hourly.date_time == pd.Timestamp(query)).any():\n",
        "    print ('date exist')  \n",
        "else:\n",
        "  print(\"Not in date\")"
      ],
      "execution_count": 42,
      "outputs": [
        {
          "output_type": "stream",
          "text": [
            "date exist\n"
          ],
          "name": "stdout"
        }
      ]
    },
    {
      "cell_type": "code",
      "metadata": {
        "colab": {
          "base_uri": "https://localhost:8080/"
        },
        "id": "_SyoqcltLsiH",
        "outputId": "0938100d-bc7d-4755-f71d-720cf0c51ff0"
      },
      "source": [
        "hour_temp = df_merged_hourly[df_merged_hourly[\"date_time\"]==query][\"era5_land_2m_temp-hourly\"].iloc[0]\n",
        "min_temp = df_merged_temp_daily[df_merged_temp_daily[\"date_time\"]==query2][\"cpcc_temp_min-daily\"].iloc[0]\n",
        "max_temp = df_merged_temp_daily[df_merged_temp_daily[\"date_time\"]==query2][\"cpcc_temp_max-daily\"].iloc[0]\n",
        "soil_water_layer = df_merged_hourly[df_merged_hourly[\"date_time\"]==query][\"era5_volumetric_soil_water_layer_1-hourly\"].iloc[0]\n",
        "wind_u = float (df_merged_hourly[df_merged_hourly[\"date_time\"]==query][\"era5_wind_100m_u-hourly\"].iloc[0])\n",
        "wind_v = float (df_merged_hourly[df_merged_hourly[\"date_time\"]==query][\"era5_wind_100m_v-hourly\"].iloc[0])\n",
        "wind_vel = calc_wind(wind_u,wind_v)[0]\n",
        "wind_dir = calc_wind(wind_u,wind_v)[1]\n",
        "precipitation = df_merged_hourly[df_merged_hourly[\"date_time\"]==query][\"era5_land_precip-hourly\"].iloc[0]\n",
        "print(hour_temp, \"\\n\", min_temp, \"\\n\", max_temp, \"\\n\",soil_water_layer, \"\\n\", wind_vel, \"\\n\",wind_dir, \"\\n\", precipitation)"
      ],
      "execution_count": 79,
      "outputs": [
        {
          "output_type": "stream",
          "text": [
            "0 \n",
            " 74.642 \n",
            " 86.95400000000001 \n",
            " 0.0296 \n",
            " 34.163273092167664 \n",
            " 207.9059299064315 \n",
            " 0\n"
          ],
          "name": "stdout"
        }
      ]
    },
    {
      "cell_type": "markdown",
      "metadata": {
        "id": "YlJWr_ZIqrnq"
      },
      "source": [
        "temp"
      ]
    },
    {
      "cell_type": "code",
      "metadata": {
        "id": "rODN3zSfeK-3"
      },
      "source": [
        "def rain_classifier(value):\n",
        "  if value == 0:\n",
        "    print(\"No rain in the last hour\")\n",
        "  elif value > 0 and value<=0.05:\n",
        "    print(\"It's drizzling a, an umbrella won't be a bad idea\")\n",
        "  elif value > 0.5 and value<=0.1:\n",
        "    print(\"A light rain, you should go out with an umbrella\")\n",
        "  elif value > 0.1 and value<=0.3:\n",
        "    print(\"Rain's quite heavy\")\n",
        "  else:\n",
        "    print(\"Very heavy downpour, hope you are indoors\")"
      ],
      "execution_count": 81,
      "outputs": []
    },
    {
      "cell_type": "code",
      "metadata": {
        "colab": {
          "base_uri": "https://localhost:8080/"
        },
        "id": "1Ui85PGthTxz",
        "outputId": "2058651a-0dcc-478e-aeec-3668196e94f8"
      },
      "source": [
        "rain_classifier(precipitation)"
      ],
      "execution_count": 82,
      "outputs": [
        {
          "output_type": "stream",
          "text": [
            "No rain in the last hour\n"
          ],
          "name": "stdout"
        }
      ]
    },
    {
      "cell_type": "code",
      "metadata": {
        "id": "kw0HfOTrBfjh"
      },
      "source": [
        "new_temp = temp.copy()"
      ],
      "execution_count": null,
      "outputs": []
    },
    {
      "cell_type": "markdown",
      "metadata": {
        "id": "MQ2wK6Z9CtZV"
      },
      "source": [
        "Rain: Precipitation in the form of liquid water drops that have diameters greater than 0.5 millimeter; if less than 0.5 millimeter, it is drizzle. Rain and drizzle are the only forms of liquid precipitation. Rain is classified as light, meaning rain falling at a rate between a trace and 0.10 inch per hour; moderate, 0.11 to 0.30 inch per hour; heavy, more than 0.30 inch per hour. Drizzle is classified as light, falling at a rate from a trace to 0.01 inch per hour; moderate, 0.01 to 0.02 inch per hour; heavy, greater than 0.02 inch per hour."
      ]
    }
  ]
}